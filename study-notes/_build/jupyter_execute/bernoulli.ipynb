{
 "cells": [
  {
   "cell_type": "markdown",
   "id": "8a5b2520",
   "metadata": {},
   "source": [
    "## Bernoulli\n",
    "The Bernoulli distribution is probably one of the first distributions to come across. It is a special case\n",
    "of the binomial distribution with n = 1 (where n is the number of trials conducted). If X is a random variable\n",
    "that takes value 1 with probability p and 0 with probability q, then it holds: \n",
    "\n",
    "$$\n",
    "Pr(X=1) = p = 1 - Pr(X=0) = 1 - q\n",
    "$$\n",
    "\n",
    "```{note}\n",
    "The output in this jupyter book will unfortunately not be interactive. This is because the widgets require \n",
    "a running python kernel, but jupyter books renders markdown and .ipynb files into html (so no Python \n",
    "kernel running).\n",
    "```"
   ]
  },
  {
   "cell_type": "code",
   "execution_count": 1,
   "id": "001a1f77",
   "metadata": {},
   "outputs": [
    {
     "ename": "SyntaxError",
     "evalue": "invalid syntax (1330475135.py, line 2)",
     "output_type": "error",
     "traceback": [
      "\u001b[0;36m  Cell \u001b[0;32mIn[1], line 2\u001b[0;36m\u001b[0m\n\u001b[0;31m    :tags: [\"hide-cell\"]\u001b[0m\n\u001b[0m    ^\u001b[0m\n\u001b[0;31mSyntaxError\u001b[0m\u001b[0;31m:\u001b[0m invalid syntax\n"
     ]
    }
   ],
   "source": [
    "%matplotlib widget\n",
    ":tags: [\"hide-cell\"]\n",
    "import ipywidgets as widgets\n",
    "import matplotlib.pyplot as plt\n",
    "import numpy as np\n",
    "from matplotlib.widgets import Slider, Button\n",
    "\n",
    "import matplotlib\n",
    "matplotlib.rcParams['mathtext.fontset'] = 'stix'\n",
    "matplotlib.rcParams['font.family'] = 'STIXGeneral'\n",
    "\n",
    "def bernoulli(phi):\n",
    "    return [phi, 1-phi]\n",
    "\n",
    "# Define values that x can take \n",
    "x_values = ['0', '1']\n",
    "\n",
    "# Define initial phi \n",
    "init_phi = 0.5\n",
    "\n",
    "# Compute probabilities\n",
    "probs = bernoulli(init_phi)\n",
    "\n",
    "fig, ax = plt.subplots()\n",
    "\n",
    "bar_container = ax.bar(x_values, probs, width=0.35, color=(0.1, 0.7, 0.0, 0.6))\n",
    "\n",
    "fig.subplots_adjust(bottom=0.25)\n",
    "axprob = fig.add_axes([0.25, 0.1, 0.65, 0.03])\n",
    "prob_slider = Slider(\n",
    "    ax=axprob,\n",
    "    label='Probability φ',\n",
    "    valmin=0.0,\n",
    "    valmax=1.0,\n",
    "    valinit=init_phi,\n",
    "    color=(0.1, 0.7, 0.0, 0.6)\n",
    ")\n",
    "\n",
    "# Change height of bars after moving the slider\n",
    "def update(val):\n",
    "    probs = bernoulli(val)\n",
    "    for count, rect in zip([0,1], bar_container.patches):\n",
    "        rect.set_height(probs[count])\n",
    "    fig.canvas.draw_idle()\n",
    "\n",
    "\n",
    "# Register the update function with the slider\n",
    "prob_slider.on_changed(update)\n",
    "\n",
    "ax.set_xlim(-0.5, 1.5)\n",
    "ax.set_ylim(0, 1.1)\n",
    "ax.set_ylabel('Probability')\n",
    "ax.set_xlabel('Value of x')\n",
    "ax.set_title('Bernoulli Distribution')\n",
    "\n",
    "plt.show()"
   ]
  }
 ],
 "metadata": {
  "jupytext": {
   "formats": "md:myst",
   "text_representation": {
    "extension": ".md",
    "format_name": "myst"
   }
  },
  "kernelspec": {
   "display_name": "Python 3",
   "language": "python",
   "name": "python3"
  },
  "language_info": {
   "codemirror_mode": {
    "name": "ipython",
    "version": 3
   },
   "file_extension": ".py",
   "mimetype": "text/x-python",
   "name": "python",
   "nbconvert_exporter": "python",
   "pygments_lexer": "ipython3",
   "version": "3.10.6"
  },
  "source_map": [
   11,
   27
  ]
 },
 "nbformat": 4,
 "nbformat_minor": 5
}