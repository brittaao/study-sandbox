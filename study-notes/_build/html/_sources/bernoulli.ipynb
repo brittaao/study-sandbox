{
 "cells": [
  {
   "cell_type": "markdown",
   "id": "224924b8",
   "metadata": {},
   "source": [
    "# Bernoulli\n",
    "\n",
    "![bernoulli](./_static/bernoulli.gif)\n",
    "\n",
    "The [Bernoulli distribution](https://en.wikipedia.org/wiki/Bernoulli_distribution) is probably one of the first distributions to come across. It is a special case\n",
    "of the binomial distribution with n = 1 (where n is the number of trials conducted). If X is a random variable\n",
    "that takes value 1 with probability p and 0 with probability q, then it holds: \n",
    "\n",
    "$$\n",
    "Pr(X=1) = p = 1 - Pr(X=0) = 1 - q\n",
    "$$\n",
    "\n",
    "The `matplotlib.widget` library is needed to plot an interactive plot."
   ]
  },
  {
   "cell_type": "code",
   "execution_count": 1,
   "id": "0d5a9f86",
   "metadata": {},
   "outputs": [],
   "source": [
    "%matplotlib widget\n",
    "import ipywidgets as widgets\n",
    "import matplotlib as mpl \n",
    "import matplotlib.pyplot as plt\n",
    "from matplotlib.widgets import Slider, Button\n",
    "import numpy as np\n",
    "\n",
    "default_color = \"#81b69d80\""
   ]
  },
  {
   "cell_type": "markdown",
   "id": "8a7ffb86",
   "metadata": {},
   "source": [
    "This is the code for the plot of the probability densitity function of the bernoulli distribution.\n",
    "If you want to try out the widget interactively, you can find the notebook file [here](https://github.com/brittaao/study-sandbox/blob/main/prob-distributions/bernoulli.ipynb).\n",
    "\n",
    "```\n",
    "def bernoulli(p):\n",
    "    '''Return probabilities p and q'''\n",
    "    return [p, 1-p]\n",
    "\n",
    "# Define values that x can take \n",
    "x_values = ['0', '1']\n",
    "\n",
    "# Define initial phi \n",
    "init_p = 0.5\n",
    "\n",
    "# Compute probabilities\n",
    "probs = bernoulli(init_p)\n",
    "\n",
    "# Set up bar plot\n",
    "fig, ax = plt.subplots()\n",
    "\n",
    "bar_container = ax.bar(x_values, probs, width=0.35, color=default_color)\n",
    "\n",
    "fig.subplots_adjust(bottom=0.25)\n",
    "axprob = fig.add_axes([0.25, 0.1, 0.65, 0.03])\n",
    "prob_slider = Slider(\n",
    "    ax=axprob,\n",
    "    label='Probability p',\n",
    "    valmin=0.0,\n",
    "    valmax=1.0,\n",
    "    valinit=init_p,\n",
    "    color=default_color\n",
    ")\n",
    "\n",
    "# Change height of bars after moving the slider\n",
    "def update(val):\n",
    "    probs = bernoulli(val)\n",
    "    for count, rect in zip([0,1], bar_container.patches):\n",
    "        rect.set_height(probs[count])\n",
    "    fig.canvas.draw_idle()\n",
    "\n",
    "\n",
    "# Register the update function with the slider\n",
    "prob_slider.on_changed(update)\n",
    "\n",
    "ax.set_xlim(-0.5, 1.5)\n",
    "ax.set_ylim(0, 1.1)\n",
    "ax.set_ylabel('Probability')\n",
    "ax.set_xlabel('Value of X')\n",
    "ax.set_title('Bernoulli Distribution')\n",
    "\n",
    "plt.show()\n",
    "```\n",
    "\n",
    "```{note}\n",
    "The output in this jupyter book will unfortunately not be interactive. This is because the widgets require \n",
    "a running python kernel, but jupyter books renders markdown and .ipynb files into html (so no Python \n",
    "kernel running).\n",
    "```"
   ]
  }
 ],
 "metadata": {
  "jupytext": {
   "formats": "md:myst",
   "text_representation": {
    "extension": ".md",
    "format_name": "myst"
   }
  },
  "kernelspec": {
   "display_name": "Python 3",
   "language": "python",
   "name": "python3"
  },
  "language_info": {
   "codemirror_mode": {
    "name": "ipython",
    "version": 3
   },
   "file_extension": ".py",
   "mimetype": "text/x-python",
   "name": "python",
   "nbconvert_exporter": "python",
   "pygments_lexer": "ipython3",
   "version": "3.10.6"
  },
  "source_map": [
   11,
   26,
   35
  ]
 },
 "nbformat": 4,
 "nbformat_minor": 5
}